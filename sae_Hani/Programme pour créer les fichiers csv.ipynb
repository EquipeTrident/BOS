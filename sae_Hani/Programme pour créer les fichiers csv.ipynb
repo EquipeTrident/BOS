{
 "cells": [
  {
   "cell_type": "code",
   "execution_count": 116,
   "id": "19dc1e87",
   "metadata": {},
   "outputs": [],
   "source": [
    "def parse_line( ligne , sep, num_colonne, ty) :\n",
    "        li = ligne.split(sep)\n",
    "        if ty == \"int\" :\n",
    "            return(int(li[num_colonne]))\n",
    "        elif ty == \"float\" :\n",
    "            return(float(li[num_colonne]))\n",
    "        elif ty == \"str\" :\n",
    "            return(li[num_colonne])\n",
    "        elif ty == \"bool\" :\n",
    "            return(bool(li[num_colonne]))\n",
    "        else:\n",
    "            print(\"Erreur type non reconnu.\")"
   ]
  },
  {
   "cell_type": "code",
   "execution_count": 117,
   "id": "c846f819",
   "metadata": {},
   "outputs": [],
   "source": [
    "f_input = open( 'Liste_etu.csv' , 'r')\n",
    "Student_id = []\n",
    "nom = []\n",
    "prenom = []\n",
    "groupe = []\n",
    "mail = []\n",
    "formation_id = []\n",
    "stg = []\n",
    "visibilty = []\n",
    "entreprise = []\n",
    "perso = []\n",
    "f_input.readline()\n",
    "li = f_input.readline()\n",
    "while ('' != li) :\n",
    "    Student_id.append(parse_line(li, ',', 0, \"int\"))\n",
    "    nom.append(parse_line(li, ',', 1, \"str\"))\n",
    "    prenom.append(parse_line(li, ',', 2, \"str\"))\n",
    "    groupe.append(parse_line(li[:-1], ',', 3, \"str\"))\n",
    "\n",
    "    li = f_input.readline()\n",
    "f_input.close()"
   ]
  },
  {
   "cell_type": "code",
   "execution_count": 118,
   "id": "5a8fd921",
   "metadata": {},
   "outputs": [],
   "source": [
    "x = 1\n",
    "i = 0\n",
    "while i < 80 :\n",
    "    mail.append(prenom[i] + '.' + nom[i] + '@univ-paris13.fr')\n",
    "    formation_id.append(x)\n",
    "    stg.append(\"NULL\")\n",
    "    visibilty.append(\"NULL\")\n",
    "    entreprise.append(\"NULL\")\n",
    "    perso.append(\"NULL\")\n",
    "    i += 1\n",
    "\n",
    "    \n"
   ]
  },
  {
   "cell_type": "code",
   "execution_count": 119,
   "id": "743f5d7b",
   "metadata": {},
   "outputs": [
    {
     "name": "stdout",
     "output_type": "stream",
     "text": [
      "['Aramis', 'Athos', 'Aramis', 'Aramis', 'Porthos', 'Athos', 'Porthos', 'Porthos', 'SAS', 'Aramis', 'Athos', 'Porthos', 'Porthos', 'Porthos', 'Athos', 'Aramis', 'Athos', 'Porthos', 'Porthos', 'Aramis', 'Athos', 'Athos', 'Porthos', 'Athos', 'Aramis', 'Porthos', 'Porthos', 'Aramis', 'Porthos', 'Athos', 'Porthos', 'Athos', 'Porthos', 'Athos', 'Porthos', 'SAS', 'Porthos', 'Athos', 'Aramis', 'Athos', 'Athos', 'Porthos', 'Athos', 'Aramis', 'Athos', 'Porthos', 'Athos', 'Aramis', 'Aramis', 'Athos', 'Porthos', 'Porthos', 'Athos', 'Porthos', 'Aramis', 'Aramis', 'Athos', 'Porthos', 'Porthos', 'Aramis', 'Porthos', 'Athos', 'Aramis', 'SAS', 'Athos', 'Aramis', 'Porthos', 'Aramis', 'Athos', 'Athos', 'Athos', 'Athos', 'Athos', 'Aramis', 'Aramis', 'Aramis', 'Aramis', 'Porthos', 'Porthos', 'Aramis']\n"
     ]
    }
   ],
   "source": [
    "\n",
    "print(groupe)\n"
   ]
  },
  {
   "cell_type": "code",
   "execution_count": 120,
   "id": "cdf8f58e",
   "metadata": {},
   "outputs": [],
   "source": [
    "f_output = open ('etudiants_S3.csv' , 'w')\n",
    "i = 0\n",
    "while i < len(Student_id) :\n",
    "    f_output.write( \"(\"  +'\"' + str(Student_id[i]) + '\"' +  ',' +  '\"' + nom[i] + '\"' +  ',' + '\"' + prenom[i] +  '\"' + ',' + '\"' + mail[i] +  '\"' + ',' + '\"' +  str(formation_id[i]) +  '\"' + ',' + '\"' + stg[i] +  '\"' + ',' + '\"'  + visibilty[i] +  '\"' + ',' + '\"' + str(groupe[i])+'\"'+ ',' + '\"' + entreprise[i] +  '\"' + ',' + '\"' + perso[i] +  '\"'  +\"),\" )\n",
    "    i += 1\n",
    "\n",
    "f_output.close()\n",
    "\n",
    "#RETIRER LA DERNIERE VIRGULE EN FIN DE CSV\n"
   ]
  },
  {
   "cell_type": "code",
   "execution_count": null,
   "id": "01ef59c5",
   "metadata": {},
   "outputs": [],
   "source": []
  },
  {
   "cell_type": "code",
   "execution_count": null,
   "id": "439f3416",
   "metadata": {},
   "outputs": [],
   "source": []
  },
  {
   "cell_type": "code",
   "execution_count": null,
   "id": "1dee6137",
   "metadata": {},
   "outputs": [],
   "source": []
  },
  {
   "cell_type": "code",
   "execution_count": null,
   "id": "0e8cc54c",
   "metadata": {},
   "outputs": [],
   "source": []
  }
 ],
 "metadata": {
  "kernelspec": {
   "display_name": "Python 3",
   "language": "python",
   "name": "python3"
  },
  "language_info": {
   "codemirror_mode": {
    "name": "ipython",
    "version": 3
   },
   "file_extension": ".py",
   "mimetype": "text/x-python",
   "name": "python",
   "nbconvert_exporter": "python",
   "pygments_lexer": "ipython3",
   "version": "3.8.8"
  },
  "vscode": {
   "interpreter": {
    "hash": "5238573367df39f7286bb46f9ff5f08f63a01a80960060ce41e3c79b190280fa"
   }
  }
 },
 "nbformat": 4,
 "nbformat_minor": 5
}
