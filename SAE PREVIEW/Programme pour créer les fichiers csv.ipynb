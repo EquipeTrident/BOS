{
 "cells": [
  {
   "cell_type": "code",
   "execution_count": 81,
   "id": "19dc1e87",
   "metadata": {},
   "outputs": [],
   "source": [
    "def parse_line( ligne , sep, num_colonne, ty) :\n",
    "        li = ligne.split(sep)\n",
    "        if ty == \"int\" :\n",
    "            return(int(li[num_colonne]))\n",
    "        elif ty == \"float\" :\n",
    "            return(float(li[num_colonne]))\n",
    "        elif ty == \"str\" :\n",
    "            return(li[num_colonne])\n",
    "        elif ty == \"bool\" :\n",
    "            return(bool(li[num_colonne]))\n",
    "        else:\n",
    "            print(\"Erreur type non reconnu.\")"
   ]
  },
  {
   "cell_type": "code",
   "execution_count": 82,
   "id": "c846f819",
   "metadata": {},
   "outputs": [],
   "source": [
    "f_input = open( 'Liste_etu.csv' , 'r')\n",
    "Student_id = []\n",
    "nom = []\n",
    "prenom = []\n",
    "groupe = []\n",
    "mail = []\n",
    "formation_id = []\n",
    "stg = []\n",
    "visibilty = []\n",
    "entreprise = []\n",
    "perso = []\n",
    "f_input.readline()\n",
    "li = f_input.readline()\n",
    "while ('' != li) :\n",
    "    Student_id.append(parse_line(li, ',', 0, \"int\"))\n",
    "    nom.append(parse_line(li, ',', 1, \"str\"))\n",
    "    prenom.append(parse_line(li, ',', 2, \"str\"))\n",
    "    groupe.append(parse_line(li, ',', 3, \"str\"))\n",
    "\n",
    "    li = f_input.readline()\n",
    "f_input.close()"
   ]
  },
  {
   "cell_type": "code",
   "execution_count": 83,
   "id": "5a8fd921",
   "metadata": {},
   "outputs": [],
   "source": [
    "x = 1\n",
    "i = 0\n",
    "while i < 80 :\n",
    "    mail.append(prenom[i] + '.' + nom[i] + '@univ-paris13.fr')\n",
    "    formation_id.append(x)\n",
    "    stg.append(\"NULL\")\n",
    "    visibilty.append(\"NULL\")\n",
    "    entreprise.append(\"NULL\")\n",
    "    perso.append(\"NULL\")\n",
    "    i += 1\n",
    "\n",
    "    \n"
   ]
  },
  {
   "cell_type": "code",
   "execution_count": 90,
   "id": "743f5d7b",
   "metadata": {},
   "outputs": [
    {
     "name": "stdout",
     "output_type": "stream",
     "text": [
      "[1, 2, 3, 4, 5, 6, 7, 8, 9, 10, 11, 12, 13, 14, 15, 16, 17, 18, 19, 20, 21, 22, 23, 24, 25, 26, 27, 28, 29, 30, 31, 32, 33, 34, 35, 36, 37, 38, 39, 40, 41, 42, 43, 44, 45, 46, 47, 48, 49, 50, 51, 52, 53, 54, 55, 56, 57, 58, 59, 60, 61, 62, 63, 64, 65, 66, 67, 68, 69, 70, 71, 72, 73, 74, 75, 76, 77, 78, 79, 80]\n",
      "['ABED', 'ALILI', 'ALLONSIUS', 'ALLOUNE', 'ANDRIAMISA', 'ANDRIATSAHAVOJAONA', 'ARRAR', 'AUBERT', 'AZIZI', 'BALENDRAN', 'BASKARAN', 'BELLAGRAA', 'BENAISSA', 'BOTSEKE ONGAGNA', 'BOUDARGA', 'BOUSSERHANE', 'BOYAVAL', 'BREVILLE', 'BUZURA', 'CAILLAUD', 'CAMARA', 'CHAMI', 'CHEN', 'CYPRIEN', 'DA COSTA GOMARA RUIZ', 'DIA', 'DIABIRA', 'DIALLO', 'DOVIFAAZ', 'ELABASY', 'ELNADY', 'ESSAYAH', 'FATHI', 'FRATILA', 'GUPTA', 'HAIN', 'HAMMACHE', 'HAUDE', 'HAYEK', 'HOUMIMID', 'HUANG', 'HUYNH', 'IDIER', 'JEYARAJ', 'JIE', 'KANZARI', 'LADDADA', 'LANNUZEL', 'LAURENT', 'LAZAR', 'LILE', 'LO', 'LUYEYE LU MVUALA', 'MARROU', 'MAZGAR', 'MOHAMMEDI', 'NEJJARI', 'NGUYEN', 'OUBELLA', 'OUYED', 'PAILLOT', 'PARIS', 'PATHMAHARAN', 'PIRES', 'POSTIC', 'RACHID', 'RAVEENDRAN', 'SADI OUFELLA', 'SALEMKOUR', 'SAMI', 'SAVUNDRARAJAN', 'SMAOUNE', 'SOUPRAMANIANE', 'TALBI', 'THEIVENDIRAMPILLAI', 'TIGRINI', 'TLEMSANI', 'TOPAL', 'VONGSAVANH', 'ZEROUAL']\n",
      "['Rayane', 'Amney', 'Ahmed', 'Aymen', 'Nayann', 'Ony', 'Riyad', 'Cleante', 'Rayane', 'Angela', 'Sarujan', 'Yassine', 'Younes', 'Joe', 'Othman', 'Salma', 'Maxime', 'Alexandre', 'Darius', 'Maxime', 'Moustapha', 'Bilal', 'Patrick', 'Chrislin', 'Antoine', 'Amadou', 'Sylla', 'Mamadou', 'Mehdi', 'Amgad', 'Omar', 'Charaf', 'Marie', 'Adriana-Mariana', 'Varun', 'Erwan', 'Kais', 'Auceane', 'Sofiene', 'Hani', 'Frederic', 'Alexandre', 'Laetitia', 'Jeyanika', 'Juan', 'Rayan', 'Anis', 'Dylan', 'Aicha', 'Mohamed', 'Vithia', 'Faty', 'Oceane', 'Ishak', 'Selma', 'Mazigh', 'Abdenour', 'Maxime', 'Walid', 'Neil', 'Jefferson', 'Evan', 'Kajanan', 'Nino', 'Kevin', 'Amin', 'Thirisan', 'Kenza', 'Tinhinane', 'Erwann', 'Tharshaan', 'Oussama', 'Cyril', 'Samir', 'Thevish', 'Rayane', 'Sofiane', 'Mahmut Ali', 'Aline', 'Ilyes']\n",
      "['Aramis-1\\n', 'Athos-2\\n', 'Aramis-1\\n', 'Aramis-1\\n', 'Porthos-3\\n', 'Athos-2\\n', 'Porthos-3\\n', 'Porthos-3\\n', 'SAS\\n', 'Aramis-1\\n', 'Athos-2\\n', 'Porthos-3\\n', 'Porthos-3\\n', 'Porthos-3\\n', 'Athos-2\\n', 'Aramis-1\\n', 'Athos-2\\n', 'Porthos-3\\n', 'Porthos-3\\n', 'Aramis-1\\n', 'Athos-2\\n', 'Athos-2\\n', 'Porthos-3\\n', 'Athos-2\\n', 'Aramis-1\\n', 'Porthos-3\\n', 'Porthos-3\\n', 'Aramis-1\\n', 'Porthos-3\\n', 'Athos-2\\n', 'Porthos-3\\n', 'Athos-2\\n', 'Porthos-3\\n', 'Athos-2\\n', 'Porthos-3\\n', 'SAS\\n', 'Porthos-3\\n', 'Athos-2\\n', 'Aramis-1\\n', 'Athos-2\\n', 'Athos-2\\n', 'Porthos-3\\n', 'Athos-2\\n', 'Aramis-1\\n', 'Athos-2\\n', 'Porthos-3\\n', 'Athos-2\\n', 'Aramis-1\\n', 'Aramis-1\\n', 'Athos-2\\n', 'Porthos-3\\n', 'Porthos-3\\n', 'Athos-2\\n', 'Porthos-3\\n', 'Aramis-1\\n', 'Aramis-1\\n', 'Athos-2\\n', 'Porthos-3\\n', 'Porthos-3\\n', 'Aramis-1\\n', 'Porthos-3\\n', 'Athos-2\\n', 'Aramis-1\\n', 'SAS\\n', 'Athos-2\\n', 'Aramis-1\\n', 'Porthos-3\\n', 'Aramis-1\\n', 'Athos-2\\n', 'Athos-2\\n', 'Athos-2\\n', 'Athos-2\\n', 'Athos-2\\n', 'Aramis-1\\n', 'Aramis-1\\n', 'Aramis-1\\n', 'Aramis-1\\n', 'Porthos-3\\n', 'Porthos-3\\n', 'Aramis-1\\n']\n",
      "['Rayane.ABED@univ-paris13.fr', 'Amney.ALILI@univ-paris13.fr', 'Ahmed.ALLONSIUS@univ-paris13.fr', 'Aymen.ALLOUNE@univ-paris13.fr', 'Nayann.ANDRIAMISA@univ-paris13.fr', 'Ony.ANDRIATSAHAVOJAONA@univ-paris13.fr', 'Riyad.ARRAR@univ-paris13.fr', 'Cleante.AUBERT@univ-paris13.fr', 'Rayane.AZIZI@univ-paris13.fr', 'Angela.BALENDRAN@univ-paris13.fr', 'Sarujan.BASKARAN@univ-paris13.fr', 'Yassine.BELLAGRAA@univ-paris13.fr', 'Younes.BENAISSA@univ-paris13.fr', 'Joe.BOTSEKE ONGAGNA@univ-paris13.fr', 'Othman.BOUDARGA@univ-paris13.fr', 'Salma.BOUSSERHANE@univ-paris13.fr', 'Maxime.BOYAVAL@univ-paris13.fr', 'Alexandre.BREVILLE@univ-paris13.fr', 'Darius.BUZURA@univ-paris13.fr', 'Maxime.CAILLAUD@univ-paris13.fr', 'Moustapha.CAMARA@univ-paris13.fr', 'Bilal.CHAMI@univ-paris13.fr', 'Patrick.CHEN@univ-paris13.fr', 'Chrislin.CYPRIEN@univ-paris13.fr', 'Antoine.DA COSTA GOMARA RUIZ@univ-paris13.fr', 'Amadou.DIA@univ-paris13.fr', 'Sylla.DIABIRA@univ-paris13.fr', 'Mamadou.DIALLO@univ-paris13.fr', 'Mehdi.DOVIFAAZ@univ-paris13.fr', 'Amgad.ELABASY@univ-paris13.fr', 'Omar.ELNADY@univ-paris13.fr', 'Charaf.ESSAYAH@univ-paris13.fr', 'Marie.FATHI@univ-paris13.fr', 'Adriana-Mariana.FRATILA@univ-paris13.fr', 'Varun.GUPTA@univ-paris13.fr', 'Erwan.HAIN@univ-paris13.fr', 'Kais.HAMMACHE@univ-paris13.fr', 'Auceane.HAUDE@univ-paris13.fr', 'Sofiene.HAYEK@univ-paris13.fr', 'Hani.HOUMIMID@univ-paris13.fr', 'Frederic.HUANG@univ-paris13.fr', 'Alexandre.HUYNH@univ-paris13.fr', 'Laetitia.IDIER@univ-paris13.fr', 'Jeyanika.JEYARAJ@univ-paris13.fr', 'Juan.JIE@univ-paris13.fr', 'Rayan.KANZARI@univ-paris13.fr', 'Anis.LADDADA@univ-paris13.fr', 'Dylan.LANNUZEL@univ-paris13.fr', 'Aicha.LAURENT@univ-paris13.fr', 'Mohamed.LAZAR@univ-paris13.fr', 'Vithia.LILE@univ-paris13.fr', 'Faty.LO@univ-paris13.fr', 'Oceane.LUYEYE LU MVUALA@univ-paris13.fr', 'Ishak.MARROU@univ-paris13.fr', 'Selma.MAZGAR@univ-paris13.fr', 'Mazigh.MOHAMMEDI@univ-paris13.fr', 'Abdenour.NEJJARI@univ-paris13.fr', 'Maxime.NGUYEN@univ-paris13.fr', 'Walid.OUBELLA@univ-paris13.fr', 'Neil.OUYED@univ-paris13.fr', 'Jefferson.PAILLOT@univ-paris13.fr', 'Evan.PARIS@univ-paris13.fr', 'Kajanan.PATHMAHARAN@univ-paris13.fr', 'Nino.PIRES@univ-paris13.fr', 'Kevin.POSTIC@univ-paris13.fr', 'Amin.RACHID@univ-paris13.fr', 'Thirisan.RAVEENDRAN@univ-paris13.fr', 'Kenza.SADI OUFELLA@univ-paris13.fr', 'Tinhinane.SALEMKOUR@univ-paris13.fr', 'Erwann.SAMI@univ-paris13.fr', 'Tharshaan.SAVUNDRARAJAN@univ-paris13.fr', 'Oussama.SMAOUNE@univ-paris13.fr', 'Cyril.SOUPRAMANIANE@univ-paris13.fr', 'Samir.TALBI@univ-paris13.fr', 'Thevish.THEIVENDIRAMPILLAI@univ-paris13.fr', 'Rayane.TIGRINI@univ-paris13.fr', 'Sofiane.TLEMSANI@univ-paris13.fr', 'Mahmut Ali.TOPAL@univ-paris13.fr', 'Aline.VONGSAVANH@univ-paris13.fr', 'Ilyes.ZEROUAL@univ-paris13.fr']\n"
     ]
    }
   ],
   "source": [
    "print(Student_id)\n",
    "print(nom)\n",
    "print(prenom)\n",
    "print(groupe)\n",
    "print(mail)"
   ]
  },
  {
   "cell_type": "code",
   "execution_count": 86,
   "id": "cdf8f58e",
   "metadata": {},
   "outputs": [],
   "source": [
    "f_output = open ('etudiants_S3.csv' , 'w')\n",
    "i = 0\n",
    "while i < len(Student_id) :\n",
    "    f_output.write( \"(\"  +'\"' + str(Student_id[i]) + '\"' +  ',' +  '\"' + nom[i] + '\"' +  ',' + '\"' + prenom[i] +  '\"' + ',' + '\"' + mail[i] +  '\"' + ',' + '\"' +  str(formation_id[i]) +  '\"' + ',' + '\"' + stg[i] +  '\"' + ',' + '\"'  + visibilty[i] +  '\"' + ',' + '\"' + str(groupe[i]) +  '\"' + ',' + '\"' + entreprise[i] +  '\"' + ',' + '\"' + perso[i] +  '\"'  +\"),\" +'\\n')\n",
    "    i += 1\n",
    "\n",
    "f_output.close()\n",
    "\n",
    "#RETIRER LA DERNIERE VIRGULE EN FIN DE CSV\n"
   ]
  },
  {
   "cell_type": "code",
   "execution_count": null,
   "id": "01ef59c5",
   "metadata": {},
   "outputs": [],
   "source": []
  },
  {
   "cell_type": "code",
   "execution_count": null,
   "id": "439f3416",
   "metadata": {},
   "outputs": [],
   "source": []
  },
  {
   "cell_type": "code",
   "execution_count": null,
   "id": "1dee6137",
   "metadata": {},
   "outputs": [],
   "source": []
  },
  {
   "cell_type": "code",
   "execution_count": null,
   "id": "0e8cc54c",
   "metadata": {},
   "outputs": [],
   "source": []
  }
 ],
 "metadata": {
  "kernelspec": {
   "display_name": "Python 3",
   "language": "python",
   "name": "python3"
  },
  "language_info": {
   "codemirror_mode": {
    "name": "ipython",
    "version": 3
   },
   "file_extension": ".py",
   "mimetype": "text/x-python",
   "name": "python",
   "nbconvert_exporter": "python",
   "pygments_lexer": "ipython3",
   "version": "3.8.8"
  },
  "vscode": {
   "interpreter": {
    "hash": "5238573367df39f7286bb46f9ff5f08f63a01a80960060ce41e3c79b190280fa"
   }
  }
 },
 "nbformat": 4,
 "nbformat_minor": 5
}
